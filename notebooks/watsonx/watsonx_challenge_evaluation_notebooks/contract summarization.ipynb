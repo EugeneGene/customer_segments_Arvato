{
 "cells": [
  {
   "cell_type": "markdown",
   "metadata": {},
   "source": [
    "![image](https://raw.githubusercontent.com/IBM/watson-machine-learning-samples/master/cloud/notebooks/headers/watsonx-Prompt_Lab-Notebook.png)\n",
    "# Prompt Notebook - Prompt Lab Notebook v1.0.0\n",
    "This notebook contains steps and code to demonstrate inferencing of prompts\n",
    "generated in Prompt Lab in watsonx.ai. It introduces Python API commands\n",
    "for authentication using API key and prompt inferencing using WML API.\n",
    "\n",
    "**Note:** Notebook code generated using Prompt Lab will execute successfully.\n",
    "If code is modified or reordered, there is no guarantee it will successfully execute.\n",
    "For details, see: [Saving your work in Prompt Lab as a notebook](/docs).\n",
    "\n",
    "Some familiarity with Python is helpful. This notebook uses Python 3.10.\n",
    "\n",
    "## Notebook goals\n",
    "The learning goals of this notebook are:\n",
    "\n",
    "* Creating an access token from the IBM Cloud personal API key\n",
    "* Defining a Python class for calling the WML Foundation Model inferencing API\n",
    "* Using the class to generate output from a provided text input\n",
    "\n",
    "# Setup\n",
    "\n",
    "## Inferencing class\n",
    "This cell defines a class that makes a REST API call to the watsonx Foundation Model\n",
    "inferencing API that we will use to generate output from the provided input.\n",
    "The class takes the access token created in the previous step, and uses it to\n",
    "make a REST API call with input, model id and model parameters. The response\n",
    "from the API call is returned as the cell output."
   ]
  },
  {
   "cell_type": "code",
   "execution_count": 1,
   "metadata": {},
   "outputs": [],
   "source": [
    "import requests\n",
    "\n",
    "class Prompt:\n",
    "    def __init__(self, access_token, project_id):\n",
    "        self.access_token = access_token\n",
    "        self.project_id = project_id\n",
    "\n",
    "    def generate(self, input, model_id, parameters):\n",
    "        wml_url = \"https://us-south.ml.cloud.ibm.com/ml/v1-beta/generation/text?version=2023-05-28\"\n",
    "        Headers = {\n",
    "            \"Authorization\": \"Bearer \" + self.access_token,\n",
    "            \"Content-Type\": \"application/json\",\n",
    "            \"Accept\": \"application/json\"\n",
    "        }\n",
    "        data = {\n",
    "            \"model_id\": model_id,\n",
    "            \"input\": input,\n",
    "            \"parameters\": parameters,\n",
    "            \"project_id\": self.project_id\n",
    "        }\n",
    "        response = requests.post(wml_url, json=data, headers=Headers)\n",
    "        if response.status_code == 200:\n",
    "            return response.json()[\"results\"][0][\"generated_text\"]\n",
    "        else:\n",
    "            return response.text"
   ]
  },
  {
   "cell_type": "markdown",
   "metadata": {},
   "source": [
    "## watsonx API connection\n",
    "This cell defines the credentials required to work with watsonx API for Foundation\n",
    "Model inferencing.\n",
    "\n",
    "**Action:** Provide the IBM Cloud personal API key. For details, see\n",
    "[documentation](https://cloud.ibm.com/docs/account?topic=account-userapikey&interface=ui)."
   ]
  },
  {
   "cell_type": "code",
   "execution_count": 3,
   "metadata": {},
   "outputs": [
    {
     "name": "stdin",
     "output_type": "stream",
     "text": [
      "Please enter your api key (hit enter):  ········\n"
     ]
    }
   ],
   "source": [
    "from ibm_cloud_sdk_core import IAMTokenManager\n",
    "from ibm_cloud_sdk_core.authenticators import IAMAuthenticator, BearerTokenAuthenticator\n",
    "import os, getpass\n",
    "\n",
    "access_token = IAMTokenManager(\n",
    "    apikey = getpass.getpass(\"Please enter your api key (hit enter): \"),\n",
    "    url = \"https://iam.cloud.ibm.com/identity/token\"\n",
    ").get_token()"
   ]
  },
  {
   "cell_type": "markdown",
   "metadata": {},
   "source": [
    "# Inferencing\n",
    "This cell demonstrated how we can use the defined class as well as the\n",
    "created access token to pair it with model id, parameters and input string\n",
    "to obtain the response from the the selected foundation model.\n",
    "\n",
    "## Defining the model id\n",
    "We need to specify model id that will be used for inferencing:"
   ]
  },
  {
   "cell_type": "code",
   "execution_count": 4,
   "metadata": {},
   "outputs": [],
   "source": [
    "model_id = \"google/flan-ul2\"\n"
   ]
  },
  {
   "cell_type": "markdown",
   "metadata": {},
   "source": [
    "## Defining the model parameters\n",
    "We need to provide a set of model parameters that will influence the\n",
    "result:"
   ]
  },
  {
   "cell_type": "code",
   "execution_count": 5,
   "metadata": {},
   "outputs": [],
   "source": [
    "parameters = {\n",
    "    \"decoding_method\": \"greedy\",\n",
    "    \"max_new_tokens\": 20,\n",
    "    \"repetition_penalty\": 1\n",
    "}"
   ]
  },
  {
   "cell_type": "markdown",
   "metadata": {},
   "source": [
    "## Defining the project id\n",
    "The API requires project id that provides the context for the call. We will obtain\n",
    "the id from the project in which this notebook runs:"
   ]
  },
  {
   "cell_type": "code",
   "execution_count": 7,
   "metadata": {},
   "outputs": [],
   "source": [
    "import os\n",
    "from dotenv import load_dotenv\n",
    "\n",
    "load_dotenv()\n",
    "project_id = os.environ[\"PROJECT_ID\"]"
   ]
  },
  {
   "cell_type": "markdown",
   "metadata": {},
   "source": [
    "## Defining the inferencing input\n",
    "Foundation model inferencing API accepts a natural language input that it will use\n",
    "to provide the natural language response. The API is sensitive to formatting. Input\n",
    "structure, presence of training steps (one-shot, two-shot learning etc.), as well\n",
    "as phrasing all influence the final response and belongs to the emerging discipline of\n",
    "Prompt Engineering.\n",
    "\n",
    "Let us provide the input we got from the Prompt Lab:"
   ]
  },
  {
   "cell_type": "code",
   "execution_count": 8,
   "metadata": {},
   "outputs": [],
   "source": [
    "prompt_input = \"\"\"Input:\n",
    "you agree that you will not remove obscure or alter any proprietary rights notices including copyright and trademark notices that may be affixed to or contained within the sdk.\n",
    "\n",
    "Output:\n",
    "\"\"\""
   ]
  },
  {
   "cell_type": "markdown",
   "metadata": {},
   "source": [
    "## Execution\n",
    "Let us now use the defined variables to create an instance of the class\n",
    "we defined previously and get the response from the selected foundation model:"
   ]
  },
  {
   "cell_type": "code",
   "execution_count": 9,
   "metadata": {},
   "outputs": [
    {
     "data": {
      "text/plain": [
       "'You agree that you will not remove obscure or alter any proprietary rights notices including copyright and trademark'"
      ]
     },
     "execution_count": 9,
     "metadata": {},
     "output_type": "execute_result"
    }
   ],
   "source": [
    "prompt = Prompt(access_token, project_id)\n",
    "\n",
    "prompt.generate(prompt_input, model_id, parameters)"
   ]
  },
  {
   "cell_type": "markdown",
   "metadata": {},
   "source": [
    "# Next steps\n",
    "You successfully completed this notebook! You learned how to use\n",
    "watsonx.ai inferencing API to generate response from the foundation model\n",
    "based on the provided input, model id and model parameters. Check out the\n",
    "official watsonx.ai site for more samples, tutorials, documentation, how-tos, and blog posts.\n",
    "\n",
    "<a id=\"copyrights\"></a>\n",
    "### Copyrights\n",
    "\n",
    "Licensed Materials - Copyright © 2023 IBM. This notebook and its source code are released under the terms of the ILAN License.\n",
    "Use, duplication disclosure restricted by GSA ADP Schedule Contract with IBM Corp.\n",
    "\n",
    "**Note:** The auto-generated notebooks are subject to the International License Agreement for Non-Warranted Programs (or equivalent) and License Information document for Watson Studio Auto-generated Notebook (License Terms), such agreements located in the link below. Specifically, the Source Components and Sample Materials clause included in the License Information document for Watson Studio Auto-generated Notebook applies to the auto-generated notebooks.  \n",
    "\n",
    "By downloading, copying, accessing, or otherwise using the materials, you agree to the <a href=\"http://www14.software.ibm.com/cgi-bin/weblap/lap.pl?li_formnum=L-AMCU-BYC7LF\">License Terms</a>  "
   ]
  }
 ],
 "metadata": {
  "kernelspec": {
   "display_name": "Python 3",
   "language": "python",
   "name": "python3"
  },
  "language_info": {
   "codemirror_mode": {
    "name": "ipython",
    "version": 3
   },
   "file_extension": ".py",
   "mimetype": "text/x-python",
   "name": "python",
   "nbconvert_exporter": "python",
   "pygments_lexer": "ipython3",
   "version": "3.9.17"
  }
 },
 "nbformat": 4,
 "nbformat_minor": 4
}
